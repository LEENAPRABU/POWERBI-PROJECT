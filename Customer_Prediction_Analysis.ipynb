http://localhost:8888/notebooks/Customer_prediction.ipynb
